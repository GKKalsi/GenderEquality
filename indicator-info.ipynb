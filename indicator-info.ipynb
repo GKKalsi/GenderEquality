{
 "cells": [
  {
   "cell_type": "code",
   "execution_count": 1,
   "id": "1348bd9d",
   "metadata": {},
   "outputs": [],
   "source": [
    "import pandas as pd # Dataframe\n",
    "import json # Parsing json to object\n",
    "import requests # Making HTTP get requests"
   ]
  },
  {
   "cell_type": "code",
   "execution_count": 2,
   "id": "9a1ae243",
   "metadata": {},
   "outputs": [],
   "source": [
    "gender_indicators = [\n",
    "    \"FIN21.T.D.2017.1\",\"FIN21.T.D.2017.2\",\"FIN21.T.D.2017\",\"SG.GEN.PARL.ZS\",\n",
    "    \"SG.GEN.MNST.ZS\",\"SE.SEC.ENRR.FE\",\"UIS.FGP.5T8.F600\",\"SL.TLF.CACT.FE.ZS\",\n",
    "    \"SG.LAW.NODC.HR\",\"SG.OWN.LDAL.FE.ZS\",\"SG.OPN.BANK.EQ\",\"SG.CNT.SIGN.EQ\",\n",
    "    \"SP.DYN.SMAM.FE\",\"SP.DYN.SMAM.MA\",\"SP.M15.2024.FE.ZS\",\"SP.M18.2024.FE.ZS\",\n",
    "    \"SG.VAW.1549.ME.ZS\",\"SG.VAW.15PL.ME.ZS\",\"SG.VAW.1549.LT.ME.ZS\",\"SG.VAW.15PL.LT.ME.ZS\",\n",
    "    \"SG.LEG.DVAW\",\"SH.STA.MMRT\",\"SH.STA.MMRT.NE\",\"SP.DYN.LE00.FE.IN\",\"SP.DYN.LE00.MA.IN\",\"SP.DYN.LE00.IN\"\n",
    "]"
   ]
  },
  {
   "cell_type": "code",
   "execution_count": 3,
   "id": "8134b029",
   "metadata": {},
   "outputs": [],
   "source": [
    "def generate_indicator_info():\n",
    "    index = 0;\n",
    "    df = pd.DataFrame(columns=[\"Index\", \"Series\", \"Label\", \"Description\"])\n",
    "    for indicator in gender_indicators:\n",
    "        url = f\"https://api.worldbank.org/v2/indicator/{indicator}?format=json\"\n",
    "        response = requests.get(url)\n",
    "        if response.status_code == 200:\n",
    "            data = json.loads(response.text)\n",
    "            label = data[1][0][\"name\"]\n",
    "            description = data[1][0][\"sourceNote\"]\n",
    "            df.loc[index] = { \"Index\": index + 1, \"Series\": indicator, \"Label\": label, \"Description\": description }\n",
    "            index = index + 1\n",
    "        else:\n",
    "            raise Exception(f\"Failed to download indicator information {indicator_name}\")\n",
    "    return df"
   ]
  },
  {
   "cell_type": "code",
   "execution_count": 4,
   "id": "3fba5313",
   "metadata": {},
   "outputs": [],
   "source": [
    "def generate_markdown(df):\n",
    "    markdown = \"## Indicator Details\\n\"\n",
    "    markdown += \"| Index | Series | Label | Description |\\n\"\n",
    "    markdown += \"| :---: | :--- | :--- | :--- |\\n\"\n",
    "    for index, row in df.iterrows():\n",
    "        markdown += f\"| {row['Index']} | {row['Series']} | {row['Label']} | {row['Description']} |\\n\"\n",
    "    return markdown\n",
    "    "
   ]
  },
  {
   "cell_type": "code",
   "execution_count": 5,
   "id": "340ea191",
   "metadata": {},
   "outputs": [
    {
     "data": {
      "text/html": [
       "<div>\n",
       "<style scoped>\n",
       "    .dataframe tbody tr th:only-of-type {\n",
       "        vertical-align: middle;\n",
       "    }\n",
       "\n",
       "    .dataframe tbody tr th {\n",
       "        vertical-align: top;\n",
       "    }\n",
       "\n",
       "    .dataframe thead th {\n",
       "        text-align: right;\n",
       "    }\n",
       "</style>\n",
       "<table border=\"1\" class=\"dataframe\">\n",
       "  <thead>\n",
       "    <tr style=\"text-align: right;\">\n",
       "      <th></th>\n",
       "      <th>Index</th>\n",
       "      <th>Series</th>\n",
       "      <th>Label</th>\n",
       "      <th>Description</th>\n",
       "    </tr>\n",
       "  </thead>\n",
       "  <tbody>\n",
       "    <tr>\n",
       "      <th>0</th>\n",
       "      <td>1</td>\n",
       "      <td>FIN21.T.D.2017.1</td>\n",
       "      <td>Borrowed to start, operate, or expand a farm o...</td>\n",
       "      <td>The percentage of respondents who report borro...</td>\n",
       "    </tr>\n",
       "    <tr>\n",
       "      <th>1</th>\n",
       "      <td>2</td>\n",
       "      <td>FIN21.T.D.2017.2</td>\n",
       "      <td>Borrowed to start, operate, or expand a farm o...</td>\n",
       "      <td>The percentage of respondents who report borro...</td>\n",
       "    </tr>\n",
       "    <tr>\n",
       "      <th>2</th>\n",
       "      <td>3</td>\n",
       "      <td>FIN21.T.D.2017</td>\n",
       "      <td>Borrowed to start, operate, or expand a farm o...</td>\n",
       "      <td>The percentage of respondents who report borro...</td>\n",
       "    </tr>\n",
       "    <tr>\n",
       "      <th>3</th>\n",
       "      <td>4</td>\n",
       "      <td>SG.GEN.PARL.ZS</td>\n",
       "      <td>Proportion of seats held by women in national ...</td>\n",
       "      <td>Women in parliaments are the percentage of par...</td>\n",
       "    </tr>\n",
       "    <tr>\n",
       "      <th>4</th>\n",
       "      <td>5</td>\n",
       "      <td>SG.GEN.MNST.ZS</td>\n",
       "      <td>Proportion of women in ministerial level posit...</td>\n",
       "      <td>Women in ministerial level positions is the pr...</td>\n",
       "    </tr>\n",
       "  </tbody>\n",
       "</table>\n",
       "</div>"
      ],
      "text/plain": [
       "   Index            Series                                              Label  \\\n",
       "0      1  FIN21.T.D.2017.1  Borrowed to start, operate, or expand a farm o...   \n",
       "1      2  FIN21.T.D.2017.2  Borrowed to start, operate, or expand a farm o...   \n",
       "2      3    FIN21.T.D.2017  Borrowed to start, operate, or expand a farm o...   \n",
       "3      4    SG.GEN.PARL.ZS  Proportion of seats held by women in national ...   \n",
       "4      5    SG.GEN.MNST.ZS  Proportion of women in ministerial level posit...   \n",
       "\n",
       "                                         Description  \n",
       "0  The percentage of respondents who report borro...  \n",
       "1  The percentage of respondents who report borro...  \n",
       "2  The percentage of respondents who report borro...  \n",
       "3  Women in parliaments are the percentage of par...  \n",
       "4  Women in ministerial level positions is the pr...  "
      ]
     },
     "execution_count": 5,
     "metadata": {},
     "output_type": "execute_result"
    }
   ],
   "source": [
    "df = generate_indicator_info()\n",
    "df.head()"
   ]
  },
  {
   "cell_type": "code",
   "execution_count": 6,
   "id": "e271fd8a",
   "metadata": {},
   "outputs": [
    {
     "name": "stdout",
     "output_type": "stream",
     "text": [
      "## Indicator Details\n",
      "| Index | Series | Label | Description |\n",
      "| :---: | :--- | :--- | :--- |\n",
      "| 1 | FIN21.T.D.2017.1 | Borrowed to start, operate, or expand a farm or business, female (% age 15+) | The percentage of respondents who report borrowing any money to start, operate, or expand a farm or business in the past year, female (% age 15+) |\n",
      "| 2 | FIN21.T.D.2017.2 | Borrowed to start, operate, or expand a farm or business, male (% age 15+) | The percentage of respondents who report borrowing any money to start, operate, or expand a farm or business in the past year, male (% age 15+) |\n",
      "| 3 | FIN21.T.D.2017 | Borrowed to start, operate, or expand a farm or business (% age 15+) | The percentage of respondents who report borrowing any money to start, operate, or expand a farm or business in the past year. |\n",
      "| 4 | SG.GEN.PARL.ZS | Proportion of seats held by women in national parliaments (%) | Women in parliaments are the percentage of parliamentary seats in a single or lower chamber held by women. |\n",
      "| 5 | SG.GEN.MNST.ZS | Proportion of women in ministerial level positions (%) | Women in ministerial level positions is the proportion of women in ministerial or equivalent positions (including deputy prime ministers) in the government. Prime Ministers/Heads of Government are included when they hold ministerial portfolios. Vice-Presidents and heads of governmental or public agencies are excluded. |\n",
      "| 6 | SE.SEC.ENRR.FE | School enrollment, secondary, female (% gross) | Gross enrollment ratio is the ratio of total enrollment, regardless of age, to the population of the age group that officially corresponds to the level of education shown. Secondary education completes the provision of basic education that began at the primary level, and aims at laying the foundations for lifelong learning and human development, by offering more subject- or skill-oriented instruction using more specialized teachers. |\n",
      "| 7 | UIS.FGP.5T8.F600 | Female share of graduates in Information and Communication Technologies programmes, tertiary (%) | Female share of graduates in the given field of education, tertiary is the number of female graduates expressed as a percentage of the total number of graduates in the given field of education from tertiary education. |\n",
      "| 8 | SL.TLF.CACT.FE.ZS | Labor force participation rate, female (% of female population ages 15+) (modeled ILO estimate) | Labor force participation rate is the proportion of the population ages 15 and older that is economically active: all people who supply labor for the production of goods and services during a specified period. |\n",
      "| 9 | SG.LAW.NODC.HR | The law prohibits discrimination in employment based on gender (1=yes; 0=no) | The indicator measures whether the law generally prevents or penalizes gender-based discrimination in employment. Laws that mandate equal treatment or equality between women and men in employment are also counted for this question. It is not considered whether the laws only prohibit discrimination in one aspect of employment, such as pay or dismissal. |\n",
      "| 10 | SG.OWN.LDAL.FE.ZS | Women who own land alone (% of women age 15-49) | Women who own land alone (% of women age 15-49) is the percentage of women age 15-49 who only solely own a land which is legally registered with their name or cannot be sold without their signature. |\n",
      "| 11 | SG.OPN.BANK.EQ | A woman can open a bank account in the same way as a man (1=yes; 0=no) | The indicator measures whether there are restrictions on a woman opening a bank account (i.e. a woman has limited legal capacity or is required to provide any additional permission or documentation that is not required of a man; or legal provisions limit the ability of a woman to open a bank account, such as stating that a married woman who is separately employed from her husband may open a bank account in her own name). |\n",
      "| 12 | SG.CNT.SIGN.EQ | A woman can sign a contract in the same way as a man (1=yes; 0=no) | The indicator measures whether a woman obtains full legal capacity upon reaching the age of majority and there are no restrictions on her signing legally binding contracts. |\n",
      "| 13 | SP.DYN.SMAM.FE | Age at first marriage, female | Mean age at marriage, female shows the average length of single life expressed in years among those females who marry before age 50. It is a synthetic indicator calculated from marital status categories of men and women aged 15 to 54 at the census or survey date. |\n",
      "| 14 | SP.DYN.SMAM.MA | Age at first marriage, male | Mean age at marriage, male shows the average length of single life expressed in years among those males who marry before age 50. It is a synthetic indicator calculated from marital status categories of men and women aged 15 to 54 at the census or survey date. |\n",
      "| 15 | SP.M15.2024.FE.ZS | Women who were first married by age 15 (% of women ages 20-24) | Women who were first married by age 15 refers to the percentage of women ages 20-24 who were first married by age 15. |\n",
      "| 16 | SP.M18.2024.FE.ZS | Women who were first married by age 18 (% of women ages 20-24) | Women who were first married by age 18 refers to the percentage of women ages 20-24 who were first married by age 18. |\n",
      "| 17 | SG.VAW.1549.ME.ZS | Proportion of women subjected to physical and/or sexual violence in the last 12 months (modeled estimate, % of ever partnered women ages 15-49) | Proportion of women subjected to physical and/or sexual violence in the last 12 months is the percentage of ever partnered women ages 15-49 who are subjected to physical violence, sexual violence or both by a current or former intimate partner in the last 12 months. |\n",
      "| 18 | SG.VAW.15PL.ME.ZS | Proportion of women subjected to physical and/or sexual violence in the last 12 months (modeled estimate, % of ever partnered women ages 15+) | Proportion of women subjected to physical and/or sexual violence in the last 12 months is the percentage of ever partnered women ages 15+  who are subjected to physical violence, sexual violence or both by a current or former intimate partner in the last 12 months. |\n",
      "| 19 | SG.VAW.1549.LT.ME.ZS | Proportion of women who have ever experienced intimate partner violence (modeled estimate, % of ever partnered women ages 15-49) | Proportion of women who have ever experienced intimate partner violence is the percentage of ever partnered women ages 15-49 who are subjected to physical violence, sexual violence or both by a current or former intimate partner in their lifetime. |\n",
      "| 20 | SG.VAW.15PL.LT.ME.ZS | Proportion of women who have ever experienced intimate partner violence (modeled estimate, % of ever partnered women ages 15+) | Proportion of women who have ever experienced intimate partner violence is the percentage of ever partnered women ages 15+ who are subjected to physical violence, sexual violence or both by a current or former intimate partner in their lifetime. |\n",
      "| 21 | SG.LEG.DVAW | There is legislation specifically addressing domestic violence (1=yes; 0=no) | The indicator measures whether there is legislation addressing domestic violence that includes criminal sanctions or provides for protection orders for domestic violence, or the legislation addresses \"harassment\" that clearly leads to physical or mental harm in the context of domestic violence. |\n",
      "| 22 | SH.STA.MMRT | Maternal mortality ratio (modeled estimate, per 100,000 live births) | Maternal mortality ratio is the number of women who die from pregnancy-related causes while pregnant or within 42 days of pregnancy termination per 100,000 live births. The data are estimated with a regression model using information on the proportion of maternal deaths among non-AIDS deaths in women ages 15-49, fertility, birth attendants, and GDP measured using purchasing power parities (PPPs). |\n",
      "| 23 | SH.STA.MMRT.NE | Maternal mortality ratio (national estimate, per 100,000 live births) | Maternal mortality ratio is the number of women who die from pregnancy-related causes while pregnant or within 42 days of pregnancy termination per 100,000 live births. |\n",
      "| 24 | SP.DYN.LE00.FE.IN | Life expectancy at birth, female (years) | Life expectancy at birth indicates the number of years a newborn infant would live if prevailing patterns of mortality at the time of its birth were to stay the same throughout its life. |\n",
      "| 25 | SP.DYN.LE00.MA.IN | Life expectancy at birth, male (years) | Life expectancy at birth indicates the number of years a newborn infant would live if prevailing patterns of mortality at the time of its birth were to stay the same throughout its life. |\n",
      "| 26 | SP.DYN.LE00.IN | Life expectancy at birth, total (years) | Life expectancy at birth indicates the number of years a newborn infant would live if prevailing patterns of mortality at the time of its birth were to stay the same throughout its life. |\n",
      "\n"
     ]
    }
   ],
   "source": [
    "indicator_info_markdown = generate_markdown(df)\n",
    "print(indicator_info_markdown)"
   ]
  }
 ],
 "metadata": {
  "kernelspec": {
   "display_name": "Python 3 (ipykernel)",
   "language": "python",
   "name": "python3"
  },
  "language_info": {
   "codemirror_mode": {
    "name": "ipython",
    "version": 3
   },
   "file_extension": ".py",
   "mimetype": "text/x-python",
   "name": "python",
   "nbconvert_exporter": "python",
   "pygments_lexer": "ipython3",
   "version": "3.11.4"
  }
 },
 "nbformat": 4,
 "nbformat_minor": 5
}
