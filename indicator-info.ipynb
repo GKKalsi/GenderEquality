{
 "cells": [
  {
   "cell_type": "code",
   "execution_count": 0,
   "metadata": {
    "application/vnd.databricks.v1+cell": {
     "cellMetadata": {
      "byteLimit": 2048000,
      "rowLimit": 10000
     },
     "inputWidgets": {},
     "nuid": "335d2c89-ec45-463e-823d-ce1bc31c62df",
     "showTitle": false,
     "title": ""
    }
   },
   "outputs": [],
   "source": [
    "# IMPORT ALL NECESSARY LIBRARIES\n",
    "import pandas as pd # Dataframe\n",
    "import json # Parsing json to object\n",
    "import requests # Making HTTP get requests\n",
    "from pyspark.sql import SparkSession"
   ]
  },
  {
   "cell_type": "code",
   "execution_count": 0,
   "metadata": {
    "application/vnd.databricks.v1+cell": {
     "cellMetadata": {
      "byteLimit": 2048000,
      "rowLimit": 10000
     },
     "inputWidgets": {},
     "nuid": "37393b88-8de0-4cb5-ac04-d32cb5ae0089",
     "showTitle": false,
     "title": ""
    }
   },
   "outputs": [],
   "source": [
    "gender_indicators = [\n",
    "    \"FIN21.T.D.2017.1\",\"FIN21.T.D.2017.2\",\"FIN21.T.D.2017\",\"SG.GEN.PARL.ZS\",\n",
    "    \"SG.GEN.MNST.ZS\",\"SE.SEC.ENRR.FE\",\"UIS.FGP.5T8.F600\",\"SL.TLF.CACT.FE.ZS\",\n",
    "    \"SG.LAW.NODC.HR\",\"SG.OWN.LDAL.FE.ZS\",\"SG.OPN.BANK.EQ\",\"SG.CNT.SIGN.EQ\",\n",
    "    \"SP.DYN.SMAM.FE\",\"SP.DYN.SMAM.MA\",\"SP.M15.2024.FE.ZS\",\"SP.M18.2024.FE.ZS\",\n",
    "    \"SG.VAW.1549.ME.ZS\",\"SG.VAW.15PL.ME.ZS\",\"SG.VAW.1549.LT.ME.ZS\",\"SG.VAW.15PL.LT.ME.ZS\",\n",
    "    \"SG.LEG.DVAW\",\"SH.STA.MMRT\",\"SH.STA.MMRT.NE\",\"SP.DYN.LE00.FE.IN\",\"SP.DYN.LE00.MA.IN\",\"SP.DYN.LE00.IN\"\n",
    "]"
   ]
  },
  {
   "cell_type": "code",
   "execution_count": 0,
   "metadata": {
    "application/vnd.databricks.v1+cell": {
     "cellMetadata": {
      "byteLimit": 2048000,
      "rowLimit": 10000
     },
     "inputWidgets": {},
     "nuid": "74bf6acf-9321-49fb-8272-4908fc2e8783",
     "showTitle": false,
     "title": ""
    }
   },
   "outputs": [],
   "source": [
    "def generate_indicator_info():\n",
    "    # Initialize an index to track the row number in the DataFrame\n",
    "    index = 0;\n",
    "\n",
    "    # Create an empty DataFrame with specific column names\n",
    "    df = pd.DataFrame(columns=[\"Index\", \"Series\", \"Label\", \"Description\"])\n",
    "\n",
    "    # Iterate over a list of gender indicators\n",
    "    for indicator in gender_indicators:\n",
    "        # Construct the API URL for each indicator\n",
    "        url = f\"https://api.worldbank.org/v2/indicator/{indicator}?format=json\"\n",
    "\n",
    "        # Send a GET request to the World Bank API\n",
    "        response = requests.get(url)\n",
    "\n",
    "        # Check if the response is successful (HTTP status code 200)\n",
    "        if response.status_code == 200:\n",
    "            # Parse the JSON response\n",
    "            data = json.loads(response.text)\n",
    "\n",
    "            # Extract the label and description from the response\n",
    "            label = data[1][0][\"name\"]\n",
    "            description = data[1][0][\"sourceNote\"]\n",
    "\n",
    "            # Add the extracted data to the DataFrame\n",
    "            df.loc[index] = { \"Index\": index + 1, \"Series\": indicator, \"Label\": label, \"Description\": description }\n",
    "\n",
    "            # Increment the index for the next row in the DataFrame\n",
    "            index = index + 1\n",
    "        else:\n",
    "            # Raise an exception if the API call fails\n",
    "            raise Exception(f\"Failed to download indicator information {indicator_name}\")\n",
    "\n",
    "    # Return the populated DataFrame\n",
    "    return df\n"
   ]
  },
  {
   "cell_type": "code",
   "execution_count": 0,
   "metadata": {
    "application/vnd.databricks.v1+cell": {
     "cellMetadata": {
      "byteLimit": 2048000,
      "rowLimit": 10000
     },
     "inputWidgets": {},
     "nuid": "7ec14f62-8579-473e-84f1-044840a0a515",
     "showTitle": false,
     "title": ""
    }
   },
   "outputs": [],
   "source": [
    "df = generate_indicator_info()\n",
    "df.head()"
   ]
  },
  {
   "cell_type": "code",
   "execution_count": 0,
   "metadata": {
    "application/vnd.databricks.v1+cell": {
     "cellMetadata": {
      "byteLimit": 2048000,
      "rowLimit": 10000
     },
     "inputWidgets": {},
     "nuid": "83fdb6c4-5000-42c1-86f6-9f0333b0e792",
     "showTitle": false,
     "title": ""
    }
   },
   "outputs": [],
   "source": [
    "# READ THE AZURE SQL DB CREDENTIALS FROM DATABRICKS SECRETS\n",
    "\n",
    "# Retrieve the SQL DB username and password from Azure Key Vault using Databricks Secret Scope Management\n",
    "sql_uname = dbutils.secrets.get(scope=\"cirdb-username\", key=\"cirdb-username\")\n",
    "sql_pwd = dbutils.secrets.get(scope=\"cirdb-username\", key=\"cirdb-pwd\")\n",
    "\n",
    "#Retrieve the JDBC URL for the SQL database from Databricks secrets\n",
    "jdbc_url = dbutils.secrets.get(scope=\"cirdb-username\",key =\"cirdb-jdbc-url\")\n",
    "\n",
    "# Set up connection properties for the SQL database\n",
    "connection_properties = {\n",
    "    \"user\": sql_uname,\n",
    "    \"password\": sql_pwd,\n",
    "    # The JDBC driver required for connecting to the SQL database\n",
    "    \"driver\": \"com.microsoft.sqlserver.jdbc.SQLServerDriver\"\n",
    "}"
   ]
  },
  {
   "cell_type": "code",
   "execution_count": 0,
   "metadata": {
    "application/vnd.databricks.v1+cell": {
     "cellMetadata": {
      "byteLimit": 2048000,
      "rowLimit": 10000
     },
     "inputWidgets": {},
     "nuid": "0db24a9b-e671-467c-88fe-0a7f5304a07e",
     "showTitle": false,
     "title": ""
    }
   },
   "outputs": [],
   "source": [
    "# Create an instance of SparkSession, which is the entry point for programming Spark with the Dataset and DataFrame API.\n",
    "spark = SparkSession.builder \\\n",
    "        .getOrCreate()"
   ]
  },
  {
   "cell_type": "code",
   "execution_count": 0,
   "metadata": {
    "application/vnd.databricks.v1+cell": {
     "cellMetadata": {
      "byteLimit": 2048000,
      "rowLimit": 10000
     },
     "inputWidgets": {},
     "nuid": "d8d362ac-a656-4f0b-a046-ea774d71a8bf",
     "showTitle": false,
     "title": ""
    }
   },
   "outputs": [],
   "source": [
    "# WRITE DATA TO SQL DB\n",
    "df_spark = spark.createDataFrame(df)\n",
    "df_spark.write.jdbc(url=jdbc_url, table=\"dbricks_worldbank_gender_ref\", mode=\"overwrite\", properties=connection_properties)"
   ]
  },
  {
   "cell_type": "code",
   "execution_count": 0,
   "metadata": {
    "application/vnd.databricks.v1+cell": {
     "cellMetadata": {
      "byteLimit": 2048000,
      "rowLimit": 10000
     },
     "inputWidgets": {},
     "nuid": "0483e392-1d09-4ba3-9f43-546de6b2bc59",
     "showTitle": false,
     "title": ""
    }
   },
   "outputs": [],
   "source": [
    "def generate_markdown(df):\n",
    "    markdown = \"## Indicator Details\\n\"\n",
    "    markdown += \"| Index | Series | Label | Description |\\n\"\n",
    "    markdown += \"| :---: | :--- | :--- | :--- |\\n\"\n",
    "    for index, row in df.iterrows():\n",
    "        markdown += f\"| {row['Index']} | {row['Series']} | {row['Label']} | {row['Description']} |\\n\"\n",
    "    return markdown\n",
    "    "
   ]
  },
  {
   "cell_type": "code",
   "execution_count": 0,
   "metadata": {
    "application/vnd.databricks.v1+cell": {
     "cellMetadata": {
      "byteLimit": 2048000,
      "rowLimit": 10000
     },
     "inputWidgets": {},
     "nuid": "049d18f0-e7fb-4dc9-ba92-6c99f02ae9a2",
     "showTitle": false,
     "title": ""
    }
   },
   "outputs": [],
   "source": [
    "indicator_info_markdown = generate_markdown(df)\n",
    "print(indicator_info_markdown)"
   ]
  }
 ],
 "metadata": {
  "application/vnd.databricks.v1+notebook": {
   "dashboards": [],
   "language": "python",
   "notebookMetadata": {
    "pythonIndentUnit": 4
   },
   "notebookName": "indicator-info",
   "widgets": {}
  },
  "kernelspec": {
   "display_name": "Python 3 (ipykernel)",
   "language": "python",
   "name": "python3"
  },
  "language_info": {
   "codemirror_mode": {
    "name": "ipython",
    "version": 3
   },
   "file_extension": ".py",
   "mimetype": "text/x-python",
   "name": "python",
   "nbconvert_exporter": "python",
   "pygments_lexer": "ipython3",
   "version": "3.11.4"
  }
 },
 "nbformat": 4,
 "nbformat_minor": 0
}
