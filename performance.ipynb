{
 "cells": [
  {
   "cell_type": "markdown",
   "metadata": {},
   "source": [
    "# Performance Comparison\n",
    "Compare performance when reading json vs jsonstat formats"
   ]
  },
  {
   "cell_type": "code",
   "execution_count": 1,
   "metadata": {},
   "outputs": [],
   "source": [
    "# imports\n",
    "import pandas as pd # Dataframe\n",
    "import json # Parsing json to object\n",
    "import requests # Making HTTP get requests\n",
    "import pycountry\n",
    "from pyjstat import pyjstat"
   ]
  },
  {
   "cell_type": "code",
   "execution_count": 2,
   "metadata": {},
   "outputs": [],
   "source": [
    "def download_indicator_json(indicator_name):\n",
    "  index = 0\n",
    "  page = 1\n",
    "  df = pd.DataFrame(columns=[\"country_region\", \"iso_code\", \"year\", \"value\", \"unit\"])\n",
    "  while True:\n",
    "    url = f\"http://api.worldbank.org/v2/country/all/indicator/{indicator_name}?format=json&per_page=1000&gapfill=N&page={page}\" # REPLACE ALL WITH VARIABLE FOR ISO3_CODES\n",
    "    response = requests.get(url)\n",
    "    if response.status_code == 200:\n",
    "      data = json.loads(response.text)\n",
    "      total_pages = data[0][\"pages\"]\n",
    "      print(f\"Processing {indicator_name}: Page {page} / {total_pages}\")\n",
    "      for item in data[1]:\n",
    "        df.loc[index] = { \"country_region\":item[\"country\"][\"value\"], \"iso_code\": item[\"countryiso3code\"], \"year\": item[\"date\"], \"value\": item[\"value\"], \"unit\": item[\"unit\"] }\n",
    "        index = index + 1\n",
    "      if (page > total_pages):\n",
    "        break\n",
    "      else:\n",
    "        page = page + 1\n",
    "    else:\n",
    "      raise Exception(f\"Failed to download indicator {indicator_name}\")\n",
    "  return df"
   ]
  },
  {
   "cell_type": "code",
   "execution_count": 3,
   "metadata": {},
   "outputs": [],
   "source": [
    "def download_indicator_jsonstat(indicator_name):\n",
    "    url = f\"http://api.worldbank.org/v2/country/all/indicator/{indicator_name}?format=jsonstat&gapfill=N\"\n",
    "    dataset = pyjstat.Dataset.read(url)\n",
    "    df = dataset.write('dataframe')\n",
    "    return df"
   ]
  },
  {
   "cell_type": "code",
   "execution_count": 4,
   "metadata": {},
   "outputs": [
    {
     "name": "stdout",
     "output_type": "stream",
     "text": [
      "Processing SG.GEN.PARL.ZS: Page 1 / 17\n",
      "Processing SG.GEN.PARL.ZS: Page 2 / 17\n",
      "Processing SG.GEN.PARL.ZS: Page 3 / 17\n",
      "Processing SG.GEN.PARL.ZS: Page 4 / 17\n",
      "Processing SG.GEN.PARL.ZS: Page 5 / 17\n",
      "Processing SG.GEN.PARL.ZS: Page 6 / 17\n",
      "Processing SG.GEN.PARL.ZS: Page 7 / 17\n",
      "Processing SG.GEN.PARL.ZS: Page 8 / 17\n",
      "Processing SG.GEN.PARL.ZS: Page 9 / 17\n",
      "Processing SG.GEN.PARL.ZS: Page 10 / 17\n",
      "Processing SG.GEN.PARL.ZS: Page 11 / 17\n",
      "Processing SG.GEN.PARL.ZS: Page 12 / 17\n",
      "Processing SG.GEN.PARL.ZS: Page 13 / 17\n",
      "Processing SG.GEN.PARL.ZS: Page 14 / 17\n",
      "Processing SG.GEN.PARL.ZS: Page 15 / 17\n",
      "Processing SG.GEN.PARL.ZS: Page 16 / 17\n",
      "Processing SG.GEN.PARL.ZS: Page 17 / 17\n",
      "Processing SG.GEN.PARL.ZS: Page 18 / 17\n",
      "1min 13s ± 0 ns per loop (mean ± std. dev. of 1 run, 1 loop each)\n"
     ]
    }
   ],
   "source": [
    "%%timeit -n 1 -r 1\n",
    "result1 = download_indicator_json(\"SG.GEN.PARL.ZS\")"
   ]
  },
  {
   "cell_type": "code",
   "execution_count": 5,
   "metadata": {},
   "outputs": [
    {
     "name": "stdout",
     "output_type": "stream",
     "text": [
      "765 ms ± 0 ns per loop (mean ± std. dev. of 1 run, 1 loop each)\n"
     ]
    }
   ],
   "source": [
    "%%timeit -n 1 -r 1\n",
    "result2 = download_indicator_jsonstat(\"SG.GEN.PARL.ZS\")"
   ]
  }
 ],
 "metadata": {
  "kernelspec": {
   "display_name": "Python 3 (ipykernel)",
   "language": "python",
   "name": "python3"
  },
  "language_info": {
   "codemirror_mode": {
    "name": "ipython",
    "version": 3
   },
   "file_extension": ".py",
   "mimetype": "text/x-python",
   "name": "python",
   "nbconvert_exporter": "python",
   "pygments_lexer": "ipython3",
   "version": "3.11.4"
  }
 },
 "nbformat": 4,
 "nbformat_minor": 2
}
