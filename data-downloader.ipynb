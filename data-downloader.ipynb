{
 "cells": [
  {
   "cell_type": "markdown",
   "metadata": {
    "application/vnd.databricks.v1+cell": {
     "cellMetadata": {},
     "inputWidgets": {},
     "nuid": "5dca89b2-1cd6-4df5-b6d9-6e1175e36051",
     "showTitle": false,
     "title": ""
    },
    "id": "LH0LNcQpsUwG"
   },
   "source": [
    "# Gender Data Indicators\n",
    "Generic Framework for extracting Gender Data"
   ]
  },
  {
   "cell_type": "markdown",
   "metadata": {
    "application/vnd.databricks.v1+cell": {
     "cellMetadata": {},
     "inputWidgets": {},
     "nuid": "7af65345-a0c1-4af1-a168-d8e71f58c8f2",
     "showTitle": false,
     "title": ""
    },
    "id": "YVGo5uYkg8YA"
   },
   "source": [
    "## World Bank API Usage Documentation\n",
    "  \n",
    "**API Documentation:** https://datahelpdesk.worldbank.org/knowledgebase/articles/898581</br>\n",
    "**Base URL:** <a href=\"api.worldbank.org/v2/\">api.worldbank.org/v2/</a></br>\n",
    "**Parameters:** </br>\n",
    "\n",
    "| Parameter | Description | Example |\n",
    "| --- | --- | --- |\n",
    "| `date` | Date or date range by year, month or quarter | `date=2000:2010` |\n",
    "| `format` | Output format: xml, json, jsonP | `format=json` |\n",
    "| `downloadformat` | Download format: csv, xml, excel | `downloadformat=csv` |\n",
    "| `page` | Page number of the result set | `page=2` |\n",
    "| `per_page` | Number of results per page (default 50) | `per_page=25` |\n",
    "| `mrv` | Most recent values based on the number specified | `mrv=5` |\n",
    "| `mrnev` | Most recent non-empty values based on the number specified | `mrnev=5` |\n",
    "| `gapfill` | Fills values by back tracking to the next available period (works with mrv) | `gapfill=Y` |\n",
    "| `frequency` | Frequency of values: Q (quarterly), M (monthly), Y (yearly) (works with mrv) | `frequency=M` |\n",
    "| `footnote` | Fetches footnote detail in data calls | `footnote=y` |\n",
    "| `language` | Local language translations for some countries | `language=vi` |\n"
   ]
  },
  {
   "cell_type": "code",
   "execution_count": 0,
   "metadata": {
    "application/vnd.databricks.v1+cell": {
     "cellMetadata": {},
     "inputWidgets": {},
     "nuid": "a6d05121-19b7-4a27-ae44-387d37c5da89",
     "showTitle": false,
     "title": ""
    },
    "colab": {
     "base_uri": "https://localhost:8080/"
    },
    "id": "heDabMThpfbQ",
    "outputId": "818bba02-80f4-41b3-81bb-f4df09d0498b"
   },
   "outputs": [],
   "source": [
    "pip install pycountry"
   ]
  },
  {
   "cell_type": "markdown",
   "metadata": {
    "application/vnd.databricks.v1+cell": {
     "cellMetadata": {},
     "inputWidgets": {},
     "nuid": "f45a7fa3-5ceb-4ef5-8222-307151e1ea76",
     "showTitle": false,
     "title": ""
    },
    "id": "OoN5XPVBZ-qH"
   },
   "source": []
  },
  {
   "cell_type": "code",
   "execution_count": 0,
   "metadata": {
    "application/vnd.databricks.v1+cell": {
     "cellMetadata": {},
     "inputWidgets": {},
     "nuid": "35a95e76-2095-4c46-99fa-4c0dcaa875d8",
     "showTitle": false,
     "title": ""
    },
    "id": "mrxplGvx6ndI"
   },
   "outputs": [],
   "source": [
    "# Imports\n",
    "import pandas as pd # Dataframe\n",
    "import json # Parsing json to object\n",
    "import requests # Making HTTP get requests\n",
    "import pycountry"
   ]
  },
  {
   "cell_type": "code",
   "execution_count": 0,
   "metadata": {
    "application/vnd.databricks.v1+cell": {
     "cellMetadata": {},
     "inputWidgets": {},
     "nuid": "f570f784-b501-4025-8118-f4bf703eca0a",
     "showTitle": false,
     "title": ""
    }
   },
   "outputs": [],
   "source": [
    "# List available countries\n",
    "for country in pycountry.countries:\n",
    "    print(country)"
   ]
  },
  {
   "cell_type": "code",
   "execution_count": 0,
   "metadata": {
    "application/vnd.databricks.v1+cell": {
     "cellMetadata": {},
     "inputWidgets": {},
     "nuid": "0ab37dba-59cd-439c-a429-92f91accec7e",
     "showTitle": false,
     "title": ""
    },
    "colab": {
     "base_uri": "https://localhost:8080/"
    },
    "id": "rj0ObOfHpYqw",
    "outputId": "3298899a-35c8-4f6e-d6e0-0b7dc62e4ce4"
   },
   "outputs": [],
   "source": [
    "# List of countries\n",
    "countries = [\n",
    "    \"Botswana\", \"Cameroon\", \"Gabon\", \"Gambia\", \"Ghana\", \"Kenya\",\n",
    "    \"Eswatini\", \"Lesotho\", \"Malawi\", \"Mauritius\", \"Mozambique\",\n",
    "    \"Namibia\", \"Nigeria\", \"Rwanda\", \"Seychelles\", \"Sierra Leone\",\n",
    "    \"South Africa\", \"Togo\", \"Uganda\", \"Tanzania, United Republic of\", \"Zambia\",\n",
    "    \"Bangladesh\", \"Brunei Darussalam\", \"India\", \"Malaysia\", \"Maldives\",\n",
    "    \"Pakistan\", \"Singapore\", \"Sri Lanka\", \"Antigua and Barbuda\", \"Bahamas\",\n",
    "    \"Barbados\", \"Belize\", \"Canada\", \"Dominica\", \"Grenada\", \"Guyana\",\n",
    "    \"Jamaica\", \"Saint Lucia\", \"Saint Kitts and Nevis\", \"Saint Vincent and The Grenadines\",\n",
    "    \"Trinidad and Tobago\", \"Cyprus\", \"Malta\", \"United Kingdom\", \"Australia\",\n",
    "    \"Fiji\", \"Kiribati\", \"Nauru\", \"New Zealand\", \"Papua New Guinea\", \"Samoa\",\n",
    "    \"Solomon Islands\", \"Tonga\", \"Tuvalu\", \"Vanuatu\"\n",
    "]\n",
    "print(len(countries))\n",
    "# Dictionary to hold country names and their ISO codes\n",
    "country_iso_codes = {}\n",
    "\n",
    "for country in countries:\n",
    "    try:\n",
    "        iso_code = pycountry.countries.get(name=country).alpha_3 # Trinidad and Tobago | Trinidad & Tobago | trinidad and tobago [TTO] - https://www.iban.com/country-codes\n",
    "        country_iso_codes[country] = iso_code\n",
    "    except AttributeError:\n",
    "        print(f\"ISO code not found for {country}\")\n",
    "\n"
   ]
  },
  {
   "cell_type": "code",
   "execution_count": 0,
   "metadata": {
    "application/vnd.databricks.v1+cell": {
     "cellMetadata": {},
     "inputWidgets": {},
     "nuid": "f45f3a20-c324-403e-9a81-4c89de91eee6",
     "showTitle": false,
     "title": ""
    },
    "id": "AqiJ-D0H7fpD"
   },
   "outputs": [],
   "source": [
    "# IMPLEMENT A FILTER TO COMMONWEALTH COUNTRIES - https://thecommonwealth.org/our-member-countries\n",
    "\n",
    "# Downloads the indicator using World Bank data API\n",
    "def download_indicator(indicator_name):\n",
    "  index = 0\n",
    "  page = 1\n",
    "  # Create a blank dataframe with the required columns\n",
    "  df = pd.DataFrame(columns=[\"country_region\", \"iso_code\", \"year\", \"value\", \"unit\"])\n",
    "  # API returns data in pages, continue until all the data pages are loaded\n",
    "  while True:\n",
    "    # Built the GET url for the indicator data\n",
    "    # Getting 1000 rows per page\n",
    "    # Use null values for missing data (gapfill=N)\n",
    "    url = f\"http://api.worldbank.org/v2/country/all/indicator/{indicator_name}?format=json&per_page=1000&gapfill=N&page={page}\" # REPLACE ALL WITH VARIABLE FOR ISO3_CODES\n",
    "    response = requests.get(url)\n",
    "    # Check if the GET request was successful else raise an exception\n",
    "    if response.status_code == 200:\n",
    "      # Convert the returned json to an object\n",
    "      data = json.loads(response.text)\n",
    "      # Get the total available pages\n",
    "      total_pages = data[0][\"pages\"]\n",
    "      print(f\"Processing {indicator_name}: Page {page} / {total_pages}\")\n",
    "      # Loop through the available indicator values and add them to the dataframe\n",
    "      for item in data[1]:\n",
    "        df.loc[index] = { \"country_region\":item[\"country\"][\"value\"], \"iso_code\": item[\"countryiso3code\"], \"year\": item[\"date\"], \"value\": item[\"value\"], \"unit\": item[\"unit\"] }\n",
    "        index = index + 1\n",
    "      # Exit loop if all the available pages have been read, else read the next page\n",
    "      if (page > total_pages):\n",
    "        break\n",
    "      else:\n",
    "        page = page + 1\n",
    "    else:\n",
    "      raise Exception(f\"Failed to download indicator {indicator_name}\")\n",
    "  return df"
   ]
  },
  {
   "cell_type": "code",
   "execution_count": 0,
   "metadata": {
    "application/vnd.databricks.v1+cell": {
     "cellMetadata": {},
     "inputWidgets": {},
     "nuid": "a84f662a-275b-4846-8933-f3fb64fae803",
     "showTitle": false,
     "title": ""
    },
    "id": "zjmlqNyVe0ya"
   },
   "outputs": [],
   "source": [
    "# # Gets the name of the output file from indicator name\n",
    "# def get_filename(indicator_name):\n",
    "#   result = \"\"\n",
    "#   for ch in indicator_name:\n",
    "#     if ch == \".\" or ch == \" \":\n",
    "#       result += \"_\"\n",
    "#     else:\n",
    "#       result += ch\n",
    "#   return f\"{result}.csv\"\n",
    "\n",
    "# LOAD TO A DAFRAME"
   ]
  },
  {
   "cell_type": "code",
   "execution_count": 0,
   "metadata": {
    "application/vnd.databricks.v1+cell": {
     "cellMetadata": {},
     "inputWidgets": {},
     "nuid": "393a6473-2dd7-4cbd-af3b-5405df2cc8d7",
     "showTitle": false,
     "title": ""
    },
    "id": "dtM9Lg6OfavI"
   },
   "outputs": [],
   "source": [
    "# # Downloads and saves the indicator to CSV file\n",
    "# def save_indicator(indicator_name):\n",
    "#   df = download_indicator(indicator_name)\n",
    "\n",
    "#   # TODO: Save the dataframe to the database here.\n",
    "\n",
    "#   # --- Uncomment the below lines to save to a CSV file ---\n",
    "#   #out_file_path = f\"indicators/{get_filename(indicator_name)}\"\n",
    "#   #print(f\"Saving {indicator_name} to {out_file_path}\")\n",
    "#   #df.to_csv(out_file_path)\n",
    "#   print(f\"{indicator_name} download completed.\")"
   ]
  },
  {
   "cell_type": "code",
   "execution_count": 0,
   "metadata": {
    "application/vnd.databricks.v1+cell": {
     "cellMetadata": {},
     "inputWidgets": {},
     "nuid": "cd10fa91-d2be-454f-87ff-5114c9b6ecb2",
     "showTitle": false,
     "title": ""
    },
    "id": "G40MkG7vSRy3"
   },
   "outputs": [],
   "source": [
    "# # Download the required indicators\n",
    "# save_indicator(\"FIN21.T.D.2017.1\")\n",
    "# save_indicator(\"FIN21.T.D.2017.2\")\n",
    "# save_indicator(\"FIN21.T.D.2017\")\n",
    "# save_indicator(\"SG.GEN.PARL.ZS\")\n",
    "# save_indicator(\"SG.GEN.MNST.ZS\")\n",
    "# save_indicator(\"SE.SEC.ENRR.FE\")\n",
    "# save_indicator(\"UIS.FGP.5T8.F600\")\n",
    "# save_indicator(\"SL.TLF.CACT.FE.ZS\")\n",
    "# save_indicator(\"SG.LAW.NODC.HR\")\n",
    "# save_indicator(\"SG.OWN.LDAL.FE.ZS\")\n",
    "# save_indicator(\"SG.OPN.BANK.EQ\")\n",
    "# save_indicator(\"SG.CNT.SIGN.EQ\")\n",
    "# save_indicator(\"SP.DYN.SMAM.FE\")\n",
    "# save_indicator(\"SP.DYN.SMAM.MA\")\n",
    "# save_indicator(\"SP.M15.2024.FE.ZS\")\n",
    "# save_indicator(\"SP.M18.2024.FE.ZS\")\n",
    "# save_indicator(\"SG.VAW.1549.ME.ZS\")\n",
    "# save_indicator(\"SG.VAW.15PL.ME.ZS\")\n",
    "# save_indicator(\"SG.VAW.1549.LT.ME.ZS\")\n",
    "# save_indicator(\"SG.VAW.15PL.LT.ME.ZS\")\n",
    "# save_indicator(\"SG.LEG.DVAW\")\n",
    "# save_indicator(\"SH.STA.MMRT\")\n",
    "# save_indicator(\"SH.STA.MMRT.NE\")\n",
    "# save_indicator(\"SP.DYN.LE00.FE.IN\")\n",
    "# save_indicator(\"SP.DYN.LE00.MA.IN\")\n",
    "# save_indicator(\"SP.DYN.LE00.IN\")"
   ]
  },
  {
   "cell_type": "markdown",
   "metadata": {
    "application/vnd.databricks.v1+cell": {
     "cellMetadata": {},
     "inputWidgets": {},
     "nuid": "152fcdcf-3887-4e37-a78f-fcd8c3fed295",
     "showTitle": false,
     "title": ""
    },
    "id": "v_QsVRDgtQdG"
   },
   "source": []
  },
  {
   "cell_type": "markdown",
   "metadata": {
    "application/vnd.databricks.v1+cell": {
     "cellMetadata": {},
     "inputWidgets": {},
     "nuid": "fe28f17f-be65-47cc-9ccb-215d1015472e",
     "showTitle": false,
     "title": ""
    },
    "id": "AAO5mTkGtW2C"
   },
   "source": []
  }
 ],
 "metadata": {
  "application/vnd.databricks.v1+notebook": {
   "dashboards": [],
   "language": "python",
   "notebookMetadata": {
    "pythonIndentUnit": 4
   },
   "notebookName": "data-downloader",
   "widgets": {}
  },
  "colab": {
   "provenance": []
  },
  "kernelspec": {
   "display_name": "Python 3 (ipykernel)",
   "language": "python",
   "name": "python3"
  },
  "language_info": {
   "codemirror_mode": {
    "name": "ipython",
    "version": 3
   },
   "file_extension": ".py",
   "mimetype": "text/x-python",
   "name": "python",
   "nbconvert_exporter": "python",
   "pygments_lexer": "ipython3",
   "version": "3.11.4"
  }
 },
 "nbformat": 4,
 "nbformat_minor": 0
}
