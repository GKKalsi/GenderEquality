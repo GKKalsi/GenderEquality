{
 "cells": [
  {
   "cell_type": "markdown",
   "metadata": {
    "application/vnd.databricks.v1+cell": {
     "cellMetadata": {},
     "inputWidgets": {},
     "nuid": "5dca89b2-1cd6-4df5-b6d9-6e1175e36051",
     "showTitle": false,
     "title": ""
    },
    "id": "LH0LNcQpsUwG"
   },
   "source": [
    "# Gender Data Indicators\n",
    "Generic Framework for extracting Gender Data"
   ]
  },
  {
   "cell_type": "markdown",
   "metadata": {
    "application/vnd.databricks.v1+cell": {
     "cellMetadata": {},
     "inputWidgets": {},
     "nuid": "7af65345-a0c1-4af1-a168-d8e71f58c8f2",
     "showTitle": false,
     "title": ""
    },
    "id": "YVGo5uYkg8YA"
   },
   "source": [
    "# World Bank API Usage Documentation\n",
    "  \n",
    "**API Documentation:** https://datahelpdesk.worldbank.org/knowledgebase/articles/898581</br>\n",
    "**Base URL:** <a href=\"api.worldbank.org/v2/\">api.worldbank.org/v2/</a></br>\n",
    "**Parameters:** </br>\n",
    "\n",
    "| Parameter | Description | Example |\n",
    "| --- | --- | --- |\n",
    "| `date` | Date or date range by year, month or quarter | `date=2000:2010` |\n",
    "| `format` | Output format: xml, json, jsonP | `format=json` |\n",
    "| `downloadformat` | Download format: csv, xml, excel | `downloadformat=csv` |\n",
    "| `page` | Page number of the result set | `page=2` |\n",
    "| `per_page` | Number of results per page (default 50) | `per_page=25` |\n",
    "| `mrv` | Most recent values based on the number specified | `mrv=5` |\n",
    "| `mrnev` | Most recent non-empty values based on the number specified | `mrnev=5` |\n",
    "| `gapfill` | Fills values by back tracking to the next available period (works with mrv) | `gapfill=Y` |\n",
    "| `frequency` | Frequency of values: Q (quarterly), M (monthly), Y (yearly) (works with mrv) | `frequency=M` |\n",
    "| `footnote` | Fetches footnote detail in data calls | `footnote=y` |\n",
    "| `language` | Local language translations for some countries | `language=vi` |\n"
   ]
  },
  {
   "cell_type": "markdown",
   "metadata": {
    "application/vnd.databricks.v1+cell": {
     "cellMetadata": {},
     "inputWidgets": {},
     "nuid": "517abe66-f86c-4f56-b952-ab516d7e084d",
     "showTitle": false,
     "title": ""
    }
   },
   "source": [
    "# 1. Extraction"
   ]
  },
  {
   "cell_type": "markdown",
   "metadata": {
    "application/vnd.databricks.v1+cell": {
     "cellMetadata": {},
     "inputWidgets": {},
     "nuid": "b694ff12-cfc8-48bb-994f-5e582fa8f453",
     "showTitle": false,
     "title": ""
    }
   },
   "source": [
    "### 1.1 Data Ingestion"
   ]
  },
  {
   "cell_type": "code",
   "execution_count": 0,
   "metadata": {
    "application/vnd.databricks.v1+cell": {
     "cellMetadata": {
      "byteLimit": 2048000,
      "rowLimit": 10000
     },
     "inputWidgets": {},
     "nuid": "35a95e76-2095-4c46-99fa-4c0dcaa875d8",
     "showTitle": false,
     "title": ""
    },
    "id": "mrxplGvx6ndI"
   },
   "outputs": [],
   "source": [
    "# Imports\n",
    "import pandas as pd # Dataframe\n",
    "from pyjstat import pyjstat\n",
    "import json # Parsing json to object\n",
    "import requests # Making HTTP get requests\n",
    "import pycountry"
   ]
  },
  {
   "cell_type": "code",
   "execution_count": 0,
   "metadata": {
    "application/vnd.databricks.v1+cell": {
     "cellMetadata": {},
     "inputWidgets": {},
     "nuid": "a87e93fd-946c-4e1f-87e1-27a485f0cb0a",
     "showTitle": false,
     "title": ""
    }
   },
   "outputs": [],
   "source": [
    "# Create Lists\n",
    "commonwealth_countries = [\n",
    "    \"Botswana\", \"Cameroon\", \"Gabon\", \"Gambia\", \"Ghana\", \"Kenya\",\n",
    "    \"Eswatini\", \"Lesotho\", \"Malawi\", \"Mauritius\", \"Mozambique\",\n",
    "    \"Namibia\", \"Nigeria\", \"Rwanda\", \"Seychelles\", \"Sierra Leone\",\n",
    "    \"South Africa\", \"Togo\", \"Uganda\", \"Tanzania, United Republic of\", \"Zambia\",\n",
    "    \"Bangladesh\", \"Brunei Darussalam\", \"India\", \"Malaysia\", \"Maldives\",\n",
    "    \"Pakistan\", \"Singapore\", \"Sri Lanka\", \"Antigua and Barbuda\", \"Bahamas\",\n",
    "    \"Barbados\", \"Belize\", \"Canada\", \"Dominica\", \"Grenada\", \"Guyana\",\n",
    "    \"Jamaica\", \"Saint Lucia\", \"Saint Kitts and Nevis\", \"Saint Vincent and The Grenadines\",\n",
    "    \"Trinidad and Tobago\", \"Cyprus\", \"Malta\", \"United Kingdom\", \"Australia\",\n",
    "    \"Fiji\", \"Kiribati\", \"Nauru\", \"New Zealand\", \"Papua New Guinea\", \"Samoa\",\n",
    "    \"Solomon Islands\", \"Tonga\", \"Tuvalu\", \"Vanuatu\"\n",
    "]\n",
    "\n",
    "gender_indicators = [\n",
    "    \"FIN21.T.D.2017.1\",\"FIN21.T.D.2017.2\",\"FIN21.T.D.2017\",\"SG.GEN.PARL.ZS\",\n",
    "    \"SG.GEN.MNST.ZS\",\"SE.SEC.ENRR.FE\",\"UIS.FGP.5T8.F600\",\"SL.TLF.CACT.FE.ZS\",\n",
    "    \"SG.LAW.NODC.HR\",\"SG.OWN.LDAL.FE.ZS\",\"SG.OPN.BANK.EQ\",\"SG.CNT.SIGN.EQ\",\n",
    "    \"SP.DYN.SMAM.FE\",\"SP.DYN.SMAM.MA\",\"SP.M15.2024.FE.ZS\",\"SP.M18.2024.FE.ZS\",\n",
    "    \"SG.VAW.1549.ME.ZS\",\"SG.VAW.15PL.ME.ZS\",\"SG.VAW.1549.LT.ME.ZS\",\"SG.VAW.15PL.LT.ME.ZS\",\n",
    "    \"SG.LEG.DVAW\",\"SH.STA.MMRT\",\"SH.STA.MMRT.NE\",\"SP.DYN.LE00.FE.IN\",\"SP.DYN.LE00.MA.IN\",\"SP.DYN.LE00.IN\"\n",
    "]\n",
    "\n",
    "country_iso_codes = {}\n",
    "for country in commonwealth_countries:\n",
    "    try:\n",
    "        iso_code = pycountry.countries.get(name=country).alpha_3 # Trinidad and Tobago | Trinidad & Tobago | trinidad and tobago [TTO] - https://www.iban.com/country-codes\n",
    "        country_iso_codes[country] = iso_code\n",
    "    except AttributeError:\n",
    "        print(f\"ISO code not found for {country}\")"
   ]
  },
  {
   "cell_type": "code",
   "execution_count": 0,
   "metadata": {
    "application/vnd.databricks.v1+cell": {
     "cellMetadata": {
      "byteLimit": 2048000,
      "rowLimit": 10000
     },
     "inputWidgets": {},
     "nuid": "77a429dd-0a33-44b2-9247-83e7a670b984",
     "showTitle": false,
     "title": ""
    }
   },
   "outputs": [],
   "source": [
    "#http://api.worldbank.org/v2/country/LSO;ZAF/indicator/SP.POP.TOTL;SG.GEN.PARL.ZS?format=jsonstat&source=14\n",
    "def download_indicators(country_list, indicator_list):\n",
    "    # leverage on the parameter structure of the API\n",
    "    isocode_filter = []\n",
    "    indicator_filter = []\n",
    "    for country in country_list:\n",
    "        iso_code = country_iso_codes[country]\n",
    "        isocode_filter.append(iso_code)\n",
    "    for indicator in indicator_list:\n",
    "        indicator_filter.append(indicator) \n",
    "    api_url = f'http://api.worldbank.org/v2/country/{\";\".join(isocode_filter)}/indicator/{\";\".join(indicator_filter)}?format=jsonstat&gapfill=N&source=14'\n",
    "    dataset = pyjstat.Dataset.read(api_url)\n",
    "    df = dataset.write('dataframe')\n",
    "    return df"
   ]
  },
  {
   "cell_type": "code",
   "execution_count": 0,
   "metadata": {
    "application/vnd.databricks.v1+cell": {
     "cellMetadata": {},
     "inputWidgets": {},
     "nuid": "294fd377-85c9-44be-ab3b-ad26459e6fdb",
     "showTitle": false,
     "title": ""
    }
   },
   "outputs": [],
   "source": [
    "df = download_indicators(commonwealth_countries, gender_indicators)"
   ]
  },
  {
   "cell_type": "code",
   "execution_count": 0,
   "metadata": {
    "application/vnd.databricks.v1+cell": {
     "cellMetadata": {},
     "inputWidgets": {},
     "nuid": "858ae6d6-2f3b-4d2d-991c-fff516bc8ca6",
     "showTitle": false,
     "title": ""
    }
   },
   "outputs": [],
   "source": [
    "df.head()"
   ]
  },
  {
   "cell_type": "code",
   "execution_count": 0,
   "metadata": {
    "application/vnd.databricks.v1+cell": {
     "cellMetadata": {},
     "inputWidgets": {},
     "nuid": "fcbbb71b-c14a-44f1-ac7b-ddb5f2c5d361",
     "showTitle": false,
     "title": ""
    }
   },
   "outputs": [],
   "source": [
    "print(f'Data rows : {len(df)}')"
   ]
  },
  {
   "cell_type": "markdown",
   "metadata": {
    "application/vnd.databricks.v1+cell": {
     "cellMetadata": {},
     "inputWidgets": {},
     "nuid": "1576e076-546a-40f9-a765-ea3df10092f0",
     "showTitle": false,
     "title": ""
    }
   },
   "source": [
    "### 1.2. Data Profiling (Data Quality)"
   ]
  },
  {
   "cell_type": "markdown",
   "metadata": {
    "application/vnd.databricks.v1+cell": {
     "cellMetadata": {},
     "inputWidgets": {},
     "nuid": "75e5f57e-eefb-48de-9461-bdaf66aff274",
     "showTitle": false,
     "title": ""
    }
   },
   "source": [
    "# 2. Load (MySQL, Parquet)"
   ]
  }
 ],
 "metadata": {
  "application/vnd.databricks.v1+notebook": {
   "dashboards": [],
   "language": "python",
   "notebookMetadata": {
    "pythonIndentUnit": 4
   },
   "notebookName": "data-downloader",
   "widgets": {}
  },
  "colab": {
   "provenance": []
  },
  "kernelspec": {
   "display_name": "Python 3 (ipykernel)",
   "language": "python",
   "name": "python3"
  },
  "language_info": {
   "codemirror_mode": {
    "name": "ipython",
    "version": 3
   },
   "file_extension": ".py",
   "mimetype": "text/x-python",
   "name": "python",
   "nbconvert_exporter": "python",
   "pygments_lexer": "ipython3",
   "version": "3.11.4"
  }
 },
 "nbformat": 4,
 "nbformat_minor": 0
}
