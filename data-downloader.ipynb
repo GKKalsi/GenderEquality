{
 "cells": [
  {
   "cell_type": "markdown",
   "metadata": {
    "application/vnd.databricks.v1+cell": {
     "cellMetadata": {
      "byteLimit": 2048000,
      "rowLimit": 10000
     },
     "inputWidgets": {},
     "nuid": "5dca89b2-1cd6-4df5-b6d9-6e1175e36051",
     "showTitle": false,
     "title": ""
    },
    "id": "LH0LNcQpsUwG"
   },
   "source": [
    "# Gender Data Indicators\n",
    "Generic Framework for extracting Gender Data"
   ]
  },
  {
   "cell_type": "markdown",
   "metadata": {
    "application/vnd.databricks.v1+cell": {
     "cellMetadata": {
      "byteLimit": 2048000,
      "rowLimit": 10000
     },
     "inputWidgets": {},
     "nuid": "7af65345-a0c1-4af1-a168-d8e71f58c8f2",
     "showTitle": false,
     "title": ""
    },
    "id": "YVGo5uYkg8YA"
   },
   "source": [
    "## World Bank API Usage Documentation\n",
    "  \n",
    "**API Documentation:** https://datahelpdesk.worldbank.org/knowledgebase/articles/898581</br>\n",
    "**Base URL:** <a href=\"api.worldbank.org/v2/\">api.worldbank.org/v2/</a></br>\n",
    "**Parameters:** </br>\n",
    "\n",
    "| Parameter | Description | Example |\n",
    "| --- | --- | --- |\n",
    "| `date` | Date or date range by year, month or quarter | `date=2000:2010` |\n",
    "| `format` | Output format: xml, json, jsonP | `format=json` |\n",
    "| `downloadformat` | Download format: csv, xml, excel | `downloadformat=csv` |\n",
    "| `page` | Page number of the result set | `page=2` |\n",
    "| `per_page` | Number of results per page (default 50) | `per_page=25` |\n",
    "| `mrv` | Most recent values based on the number specified | `mrv=5` |\n",
    "| `mrnev` | Most recent non-empty values based on the number specified | `mrnev=5` |\n",
    "| `gapfill` | Fills values by back tracking to the next available period (works with mrv) | `gapfill=Y` |\n",
    "| `frequency` | Frequency of values: Q (quarterly), M (monthly), Y (yearly) (works with mrv) | `frequency=M` |\n",
    "| `footnote` | Fetches footnote detail in data calls | `footnote=y` |\n",
    "| `language` | Local language translations for some countries | `language=vi` |\n"
   ]
  },
  {
   "cell_type": "code",
   "execution_count": 7,
   "metadata": {
    "application/vnd.databricks.v1+cell": {
     "cellMetadata": {
      "byteLimit": 2048000,
      "rowLimit": 10000
     },
     "inputWidgets": {},
     "nuid": "35a95e76-2095-4c46-99fa-4c0dcaa875d8",
     "showTitle": false,
     "title": ""
    },
    "id": "mrxplGvx6ndI"
   },
   "outputs": [],
   "source": [
    "# Imports\n",
    "import pandas as pd # Dataframe\n",
    "from pyjstat import pyjstat\n",
    "import json # Parsing json to object\n",
    "import requests # Making HTTP get requests\n",
    "import pycountry\n",
    "from ydata_profiling import ProfileReport"
   ]
  },
  {
   "cell_type": "code",
   "execution_count": 2,
   "metadata": {},
   "outputs": [],
   "source": [
    "# Create Lists\n",
    "commonwealth_countries = [\n",
    "    \"Botswana\", \"Cameroon\", \"Gabon\", \"Gambia\", \"Ghana\", \"Kenya\",\n",
    "    \"Eswatini\", \"Lesotho\", \"Malawi\", \"Mauritius\", \"Mozambique\",\n",
    "    \"Namibia\", \"Nigeria\", \"Rwanda\", \"Seychelles\", \"Sierra Leone\",\n",
    "    \"South Africa\", \"Togo\", \"Uganda\", \"Tanzania, United Republic of\", \"Zambia\",\n",
    "    \"Bangladesh\", \"Brunei Darussalam\", \"India\", \"Malaysia\", \"Maldives\",\n",
    "    \"Pakistan\", \"Singapore\", \"Sri Lanka\", \"Antigua and Barbuda\", \"Bahamas\",\n",
    "    \"Barbados\", \"Belize\", \"Canada\", \"Dominica\", \"Grenada\", \"Guyana\",\n",
    "    \"Jamaica\", \"Saint Lucia\", \"Saint Kitts and Nevis\", \"Saint Vincent and The Grenadines\",\n",
    "    \"Trinidad and Tobago\", \"Cyprus\", \"Malta\", \"United Kingdom\", \"Australia\",\n",
    "    \"Fiji\", \"Kiribati\", \"Nauru\", \"New Zealand\", \"Papua New Guinea\", \"Samoa\",\n",
    "    \"Solomon Islands\", \"Tonga\", \"Tuvalu\", \"Vanuatu\"\n",
    "]\n",
    "\n",
    "gender_indicators = [\n",
    "    \"FIN21.T.D.2017.1\",\"FIN21.T.D.2017.2\",\"FIN21.T.D.2017\",\"SG.GEN.PARL.ZS\",\n",
    "    \"SG.GEN.MNST.ZS\",\"SE.SEC.ENRR.FE\",\"UIS.FGP.5T8.F600\",\"SL.TLF.CACT.FE.ZS\",\n",
    "    \"SG.LAW.NODC.HR\",\"SG.OWN.LDAL.FE.ZS\",\"SG.OPN.BANK.EQ\",\"SG.CNT.SIGN.EQ\",\n",
    "    \"SP.DYN.SMAM.FE\",\"SP.DYN.SMAM.MA\",\"SP.M15.2024.FE.ZS\",\"SP.M18.2024.FE.ZS\",\n",
    "    \"SG.VAW.1549.ME.ZS\",\"SG.VAW.15PL.ME.ZS\",\"SG.VAW.1549.LT.ME.ZS\",\"SG.VAW.15PL.LT.ME.ZS\",\n",
    "    \"SG.LEG.DVAW\",\"SH.STA.MMRT\",\"SH.STA.MMRT.NE\",\"SP.DYN.LE00.FE.IN\",\"SP.DYN.LE00.MA.IN\",\"SP.DYN.LE00.IN\"\n",
    "]\n",
    "\n",
    "country_iso_codes = {}\n",
    "for country in commonwealth_countries:\n",
    "    try:\n",
    "        iso_code = pycountry.countries.get(name=country).alpha_3 # Trinidad and Tobago | Trinidad & Tobago | trinidad and tobago [TTO] - https://www.iban.com/country-codes\n",
    "        country_iso_codes[country] = iso_code\n",
    "    except AttributeError:\n",
    "        print(f\"ISO code not found for {country}\")"
   ]
  },
  {
   "cell_type": "code",
   "execution_count": 3,
   "metadata": {
    "application/vnd.databricks.v1+cell": {
     "cellMetadata": {
      "byteLimit": 2048000,
      "rowLimit": 10000
     },
     "inputWidgets": {},
     "nuid": "77a429dd-0a33-44b2-9247-83e7a670b984",
     "showTitle": false,
     "title": ""
    }
   },
   "outputs": [],
   "source": [
    "#http://api.worldbank.org/v2/country/LSO;ZAF/indicator/SP.POP.TOTL;SG.GEN.PARL.ZS?format=jsonstat&source=14\n",
    "def download_indicators(country_list, indicator_list):\n",
    "    # leverage on the parameter structure of the API\n",
    "    isocode_filter = []\n",
    "    indicator_filter = []\n",
    "    for country in country_list:\n",
    "        iso_code = country_iso_codes[country]\n",
    "        isocode_filter.append(iso_code)\n",
    "    for indicator in indicator_list:\n",
    "        indicator_filter.append(indicator) \n",
    "    api_url = f'http://api.worldbank.org/v2/country/{\";\".join(isocode_filter)}/indicator/{\";\".join(indicator_filter)}?format=jsonstat&gapfill=N&source=14'\n",
    "    dataset = pyjstat.Dataset.read(api_url)\n",
    "    df = dataset.write('dataframe')\n",
    "    return df"
   ]
  },
  {
   "cell_type": "code",
   "execution_count": 4,
   "metadata": {},
   "outputs": [],
   "source": [
    "df = download_indicators(commonwealth_countries, gender_indicators)"
   ]
  },
  {
   "cell_type": "code",
   "execution_count": 5,
   "metadata": {},
   "outputs": [
    {
     "data": {
      "text/html": [
       "<div>\n",
       "<style scoped>\n",
       "    .dataframe tbody tr th:only-of-type {\n",
       "        vertical-align: middle;\n",
       "    }\n",
       "\n",
       "    .dataframe tbody tr th {\n",
       "        vertical-align: top;\n",
       "    }\n",
       "\n",
       "    .dataframe thead th {\n",
       "        text-align: right;\n",
       "    }\n",
       "</style>\n",
       "<table border=\"1\" class=\"dataframe\">\n",
       "  <thead>\n",
       "    <tr style=\"text-align: right;\">\n",
       "      <th></th>\n",
       "      <th>Country</th>\n",
       "      <th>Series</th>\n",
       "      <th>Year</th>\n",
       "      <th>value</th>\n",
       "    </tr>\n",
       "  </thead>\n",
       "  <tbody>\n",
       "    <tr>\n",
       "      <th>0</th>\n",
       "      <td>Antigua and Barbuda</td>\n",
       "      <td>Borrowed to start, operate, or expand a farm o...</td>\n",
       "      <td>1960</td>\n",
       "      <td>NaN</td>\n",
       "    </tr>\n",
       "    <tr>\n",
       "      <th>1</th>\n",
       "      <td>Antigua and Barbuda</td>\n",
       "      <td>Borrowed to start, operate, or expand a farm o...</td>\n",
       "      <td>1961</td>\n",
       "      <td>NaN</td>\n",
       "    </tr>\n",
       "    <tr>\n",
       "      <th>2</th>\n",
       "      <td>Antigua and Barbuda</td>\n",
       "      <td>Borrowed to start, operate, or expand a farm o...</td>\n",
       "      <td>1962</td>\n",
       "      <td>NaN</td>\n",
       "    </tr>\n",
       "    <tr>\n",
       "      <th>3</th>\n",
       "      <td>Antigua and Barbuda</td>\n",
       "      <td>Borrowed to start, operate, or expand a farm o...</td>\n",
       "      <td>1963</td>\n",
       "      <td>NaN</td>\n",
       "    </tr>\n",
       "    <tr>\n",
       "      <th>4</th>\n",
       "      <td>Antigua and Barbuda</td>\n",
       "      <td>Borrowed to start, operate, or expand a farm o...</td>\n",
       "      <td>1964</td>\n",
       "      <td>NaN</td>\n",
       "    </tr>\n",
       "  </tbody>\n",
       "</table>\n",
       "</div>"
      ],
      "text/plain": [
       "               Country                                             Series  \\\n",
       "0  Antigua and Barbuda  Borrowed to start, operate, or expand a farm o...   \n",
       "1  Antigua and Barbuda  Borrowed to start, operate, or expand a farm o...   \n",
       "2  Antigua and Barbuda  Borrowed to start, operate, or expand a farm o...   \n",
       "3  Antigua and Barbuda  Borrowed to start, operate, or expand a farm o...   \n",
       "4  Antigua and Barbuda  Borrowed to start, operate, or expand a farm o...   \n",
       "\n",
       "   Year  value  \n",
       "0  1960    NaN  \n",
       "1  1961    NaN  \n",
       "2  1962    NaN  \n",
       "3  1963    NaN  \n",
       "4  1964    NaN  "
      ]
     },
     "execution_count": 5,
     "metadata": {},
     "output_type": "execute_result"
    }
   ],
   "source": [
    "df.head()"
   ]
  },
  {
   "cell_type": "code",
   "execution_count": 8,
   "metadata": {},
   "outputs": [
    {
     "name": "stdout",
     "output_type": "stream",
     "text": [
      "Data rows : 91728\n"
     ]
    }
   ],
   "source": [
    "print(f'Data rows : {len(df)}')"
   ]
  },
  {
   "cell_type": "code",
   "execution_count": 9,
   "metadata": {},
   "outputs": [],
   "source": [
    "profile = ProfileReport(df, title=\"Profiling Report\")"
   ]
  },
  {
   "cell_type": "code",
   "execution_count": 10,
   "metadata": {},
   "outputs": [
    {
     "data": {
      "application/vnd.jupyter.widget-view+json": {
       "model_id": "2e1d83f2520c4e6e9787d4edc0193d93",
       "version_major": 2,
       "version_minor": 0
      },
      "text/plain": [
       "Summarize dataset:   0%|          | 0/5 [00:00<?, ?it/s]"
      ]
     },
     "metadata": {},
     "output_type": "display_data"
    },
    {
     "data": {
      "application/vnd.jupyter.widget-view+json": {
       "model_id": "86af597c6181400a95919303122bd191",
       "version_major": 2,
       "version_minor": 0
      },
      "text/plain": [
       "Generate report structure:   0%|          | 0/1 [00:00<?, ?it/s]"
      ]
     },
     "metadata": {},
     "output_type": "display_data"
    },
    {
     "data": {
      "application/vnd.jupyter.widget-view+json": {
       "model_id": "15e5d85b6b4e4f5d8ca8f9fc4b47e296",
       "version_major": 2,
       "version_minor": 0
      },
      "text/plain": [
       "Render HTML:   0%|          | 0/1 [00:00<?, ?it/s]"
      ]
     },
     "metadata": {},
     "output_type": "display_data"
    },
    {
     "data": {
      "application/vnd.jupyter.widget-view+json": {
       "model_id": "60009c34d6a64fe49e08869328bf10b7",
       "version_major": 2,
       "version_minor": 0
      },
      "text/plain": [
       "Export report to file:   0%|          | 0/1 [00:00<?, ?it/s]"
      ]
     },
     "metadata": {},
     "output_type": "display_data"
    }
   ],
   "source": [
    "profile.to_file(\"report.html\")"
   ]
  },
  {
   "cell_type": "code",
   "execution_count": null,
   "metadata": {},
   "outputs": [],
   "source": []
  }
 ],
 "metadata": {
  "application/vnd.databricks.v1+notebook": {
   "dashboards": [],
   "language": "python",
   "notebookMetadata": {
    "pythonIndentUnit": 4
   },
   "notebookName": "data-downloader",
   "widgets": {}
  },
  "colab": {
   "provenance": []
  },
  "kernelspec": {
   "display_name": "Python 3 (ipykernel)",
   "language": "python",
   "name": "python3"
  },
  "language_info": {
   "codemirror_mode": {
    "name": "ipython",
    "version": 3
   },
   "file_extension": ".py",
   "mimetype": "text/x-python",
   "name": "python",
   "nbconvert_exporter": "python",
   "pygments_lexer": "ipython3",
   "version": "3.11.4"
  }
 },
 "nbformat": 4,
 "nbformat_minor": 1
}
