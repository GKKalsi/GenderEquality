{
 "cells": [
  {
   "cell_type": "code",
   "execution_count": 0,
   "metadata": {
    "application/vnd.databricks.v1+cell": {
     "cellMetadata": {},
     "inputWidgets": {},
     "nuid": "590b4f12-5bac-4fcf-9766-c04625f41160",
     "showTitle": false,
     "title": ""
    }
   },
   "outputs": [],
   "source": []
  },
  {
   "cell_type": "markdown",
   "metadata": {
    "application/vnd.databricks.v1+cell": {
     "cellMetadata": {},
     "inputWidgets": {},
     "nuid": "9d854c48-300d-4cfe-b461-3a2fa8e71f19",
     "showTitle": false,
     "title": ""
    }
   },
   "source": [
    "# Performance Comparison\n",
    "Compare performance when reading json vs jsonstat formats"
   ]
  },
  {
   "cell_type": "code",
   "execution_count": 0,
   "metadata": {
    "application/vnd.databricks.v1+cell": {
     "cellMetadata": {
      "byteLimit": 2048000,
      "rowLimit": 10000
     },
     "inputWidgets": {},
     "nuid": "857a3cbd-c96e-470a-94c6-990fb13a51fd",
     "showTitle": false,
     "title": ""
    }
   },
   "outputs": [],
   "source": [
    "# imports\n",
    "import pandas as pd # Dataframe\n",
    "import json # Parsing json to object\n",
    "import requests # Making HTTP get requests\n",
    "import pycountry\n",
    "from pyjstat import pyjstat\n",
    "import timeit"
   ]
  },
  {
   "cell_type": "code",
   "execution_count": 0,
   "metadata": {
    "application/vnd.databricks.v1+cell": {
     "cellMetadata": {
      "byteLimit": 2048000,
      "rowLimit": 10000
     },
     "inputWidgets": {},
     "nuid": "43ac793d-77a3-4b90-8360-f6d7770ea530",
     "showTitle": false,
     "title": ""
    }
   },
   "outputs": [],
   "source": [
    "def download_indicator_json(indicator_name):\n",
    "  index = 0\n",
    "  page = 1\n",
    "  df = pd.DataFrame(columns=[\"country_region\", \"iso_code\", \"year\", \"value\", \"unit\"])\n",
    "  while True:\n",
    "    url = f\"http://api.worldbank.org/v2/country/all/indicator/{indicator_name}?format=json&per_page=1000&gapfill=N&page={page}\" # REPLACE ALL WITH VARIABLE FOR ISO3_CODES\n",
    "    response = requests.get(url)\n",
    "    if response.status_code == 200:\n",
    "      data = json.loads(response.text)\n",
    "      total_pages = data[0][\"pages\"]\n",
    "      print(f\"Processing {indicator_name}: Page {page} / {total_pages}\")\n",
    "      for item in data[1]:\n",
    "        df.loc[index] = { \"country_region\":item[\"country\"][\"value\"], \"iso_code\": item[\"countryiso3code\"], \"year\": item[\"date\"], \"value\": item[\"value\"], \"unit\": item[\"unit\"] }\n",
    "        index = index + 1\n",
    "      if (page > total_pages):\n",
    "        break\n",
    "      else:\n",
    "        page = page + 1\n",
    "    else:\n",
    "      raise Exception(f\"Failed to download indicator {indicator_name}\")\n",
    "  return df"
   ]
  },
  {
   "cell_type": "code",
   "execution_count": 0,
   "metadata": {
    "application/vnd.databricks.v1+cell": {
     "cellMetadata": {
      "byteLimit": 2048000,
      "rowLimit": 10000
     },
     "inputWidgets": {},
     "nuid": "92d38384-e7d7-4a9a-b50e-a0174fd72629",
     "showTitle": false,
     "title": ""
    }
   },
   "outputs": [],
   "source": [
    "def download_indicator_jsonstat(indicator_name):\n",
    "    url = f\"http://api.worldbank.org/v2/country/all/indicator/{indicator_name}?format=jsonstat&gapfill=N\"\n",
    "    dataset = pyjstat.Dataset.read(url)\n",
    "    df = dataset.write('dataframe')\n",
    "    return df"
   ]
  },
  {
   "cell_type": "code",
   "execution_count": 0,
   "metadata": {
    "application/vnd.databricks.v1+cell": {
     "cellMetadata": {
      "byteLimit": 2048000,
      "rowLimit": 10000
     },
     "inputWidgets": {},
     "nuid": "eb2a994d-1d87-4fc7-a54b-a8c8637f8224",
     "showTitle": false,
     "title": ""
    }
   },
   "outputs": [],
   "source": [
    "# Timing download_indicator_json\n",
    "time_one = timeit.timeit(\"download_indicator_json('SG.GEN.PARL.ZS')\", globals=globals(), number=1)\n",
    "\n",
    "# Timing download_indicator_jsonstat\n",
    "time_two = timeit.timeit(\"download_indicator_jsonstat('SG.GEN.PARL.ZS')\", globals=globals(), number=1)\n",
    "\n",
    "# Storing the results in a DataFrame\n",
    "results_df = pd.DataFrame({\n",
    "    \"Function\": [\"Raw JSON Results\", \"JSONSTAT Results\"],\n",
    "    \"Time Taken (seconds)\": [time_one, time_two]\n",
    "})"
   ]
  },
  {
   "cell_type": "code",
   "execution_count": 0,
   "metadata": {
    "application/vnd.databricks.v1+cell": {
     "cellMetadata": {
      "byteLimit": 2048000,
      "rowLimit": 10000
     },
     "inputWidgets": {},
     "nuid": "5f4b1669-df24-4e29-92bf-7b6a69d72369",
     "showTitle": false,
     "title": ""
    }
   },
   "outputs": [],
   "source": [
    "results_df"
   ]
  },
  {
   "cell_type": "code",
   "execution_count": 0,
   "metadata": {
    "application/vnd.databricks.v1+cell": {
     "cellMetadata": {},
     "inputWidgets": {},
     "nuid": "acf7d663-5222-483e-9abc-f5a7df8c19e8",
     "showTitle": false,
     "title": ""
    }
   },
   "outputs": [],
   "source": []
  }
 ],
 "metadata": {
  "application/vnd.databricks.v1+notebook": {
   "dashboards": [],
   "language": "python",
   "notebookMetadata": {
    "pythonIndentUnit": 4
   },
   "notebookName": "performance_evaluation",
   "widgets": {}
  },
  "kernelspec": {
   "display_name": "Python 3 (ipykernel)",
   "language": "python",
   "name": "python3"
  },
  "language_info": {
   "codemirror_mode": {
    "name": "ipython",
    "version": 3
   },
   "file_extension": ".py",
   "mimetype": "text/x-python",
   "name": "python",
   "nbconvert_exporter": "python",
   "pygments_lexer": "ipython3",
   "version": "3.11.4"
  }
 },
 "nbformat": 4,
 "nbformat_minor": 0
}
